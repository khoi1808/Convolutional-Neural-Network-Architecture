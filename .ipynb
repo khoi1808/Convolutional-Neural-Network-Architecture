import tensorflow as tf
from tensorflow.keras import layers, models
from tensorflow.keras.applications import (
    VGG16, InceptionV3, ResNet50, MobileNetV2
)

# ---------------------------
# 1. LeNet (custom implementation)
# ---------------------------
def build_lenet(input_shape=(32, 32, 1), num_classes=10):
    model = models.Sequential([
        layers.Conv2D(6, (5, 5), activation='relu', input_shape=input_shape),
        layers.AveragePooling2D(),
        layers.Conv2D(16, (5, 5), activation='relu'),
        layers.AveragePooling2D(),
        layers.Flatten(),
        layers.Dense(120, activation='relu'),
        layers.Dense(84, activation='relu'),
        layers.Dense(num_classes, activation='softmax')
    ])
    return model

lenet = build_lenet()
lenet.summary()

# ---------------------------
# 2. AlexNet (simplified version, custom)
# ---------------------------
def build_alexnet(input_shape=(227, 227, 3), num_classes=1000):
    model = models.Sequential([
        layers.Conv2D(96, (11, 11), strides=4, activation='relu', input_shape=input_shape),
        layers.MaxPooling2D((3, 3), strides=2),
        layers.Conv2D(256, (5, 5), padding='same', activation='relu'),
        layers.MaxPooling2D((3, 3), strides=2),
        layers.Conv2D(384, (3, 3), padding='same', activation='relu'),
        layers.Conv2D(384, (3, 3), padding='same', activation='relu'),
        layers.Conv2D(256, (3, 3), padding='same', activation='relu'),
        layers.MaxPooling2D((3, 3), strides=2),
        layers.Flatten(),
        layers.Dense(4096, activation='relu'),
        layers.Dropout(0.5),
        layers.Dense(4096, activation='relu'),
        layers.Dropout(0.5),
        layers.Dense(num_classes, activation='softmax')
    ])
    return model

alexnet = build_alexnet()
alexnet.summary()

# ---------------------------
# 3. VGG16 (predefined in Keras Applications)
# ---------------------------
vgg16 = VGG16(weights=None, classes=1000)  # load with random weights
vgg16.summary()

# ---------------------------
# 4. GoogLeNet (InceptionV3 as replacement)
# ---------------------------
inception = InceptionV3(weights=None, classes=1000)
inception.summary()

# ---------------------------
# 5. ResNet (ResNet50 as example)
# ---------------------------
resnet = ResNet50(weights=None, classes=1000)
resnet.summary()



########################


import numpy as np
import matplotlib.pyplot as plt

# Generate some dummy data for demonstration
# In a real scenario, you would load your actual dataset here
(x_train, y_train), (x_test, y_test) = tf.keras.datasets.mnist.load_data()

# Preprocess the data
x_train = x_train.astype('float32') / 255.0
x_test = x_test.astype('float32') / 255.0
x_train = np.expand_dims(x_train, -1)
x_test = np.expand_dims(x_test, -1)

y_train = tf.keras.utils.to_categorical(y_train, 10)
y_test = tf.keras.utils.to_categorical(y_test, 10)

# Compile the LeNet model
lenet.compile(optimizer='adam',
              loss='categorical_crossentropy',
              metrics=['accuracy'])

# Train the model
history = lenet.fit(x_train, y_train,
                    epochs=5,
                    batch_size=32,
                    validation_data=(x_test, y_test))

# Plot training accuracy and loss
plt.figure(figsize=(12, 4))
plt.subplot(1, 2, 1)
plt.plot(history.history['accuracy'], label='Training Accuracy')
plt.plot(history.history['val_accuracy'], label='Validation Accuracy')
plt.title('Model Accuracy')
plt.xlabel('Epoch')
plt.ylabel('Accuracy')
plt.legend()

plt.subplot(1, 2, 2)
plt.plot(history.history['loss'], label='Training Loss')
plt.plot(history.history['val_loss'], label='Validation Loss')
plt.title('Model Loss')
plt.xlabel('Epoch')
plt.ylabel('Loss')
plt.legend()

plt.show()
